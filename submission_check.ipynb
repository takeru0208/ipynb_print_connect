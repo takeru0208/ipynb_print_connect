{
 "cells": [
  {
   "cell_type": "markdown",
   "metadata": {},
   "source": [
    "# このプログラムの使い方\n",
    "## このプログラムについて\n",
    "フォルダ内の提出ファイルのlistから提出者のリストを作成<br>\n",
    "\n",
    "## 使い方\n",
    "PATHに課題提出ファイルのパスを書く。\n",
    "出力に提出者の学籍番号がずらっと並ぶので、それをexcelにコピーしましょう"
   ]
  },
  {
   "cell_type": "code",
   "execution_count": 35,
   "metadata": {},
   "outputs": [],
   "source": [
    "import os\n",
    "\n",
    "def take_sub_file(path):\n",
    "    # 提出ファイルが入ったフォルダのパス\n",
    "    delect_list = os.listdir(path)\n",
    "\n",
    "    #　拡張子がipynbもしくはdocxのみのインデックスをとる\n",
    "    sub_index = [i for i, x in enumerate(delect_list) if (x.split('.')[1] == \"ipynb\") or (x.split('.')[1] == \"docx\")]\n",
    "\n",
    "    # 提出ファイル一覧の取得\n",
    "    return [delect_list[i] for i in sub_index]\n",
    "\n",
    "# 提出ファイル一覧から学籍番号の取得\n",
    "def take_student_num(sub_name):\n",
    "    # Change the following code depending on the file name format\n",
    "    return sub_name.split('_')[2].split('.')[0]\n",
    "\n",
    "def print_sub_st_num(path):\n",
    "    sub_list = take_sub_file(path)\n",
    "    #　学籍番号の取得\n",
    "    st_num_list = list(map(take_student_num, sub_list))\n",
    "    for x in st_num_list:\n",
    "        print(x)\n",
    "    \n"
   ]
  },
  {
   "cell_type": "code",
   "execution_count": 36,
   "metadata": {},
   "outputs": [
    {
     "name": "stdout",
     "output_type": "stream",
     "text": [
      "20WM1202\n",
      "20WM1203\n",
      "20WM1207\n",
      "20WM1208\n",
      "20WM1210\n",
      "20WM1213\n",
      "20WM6201\n",
      "20WM6202\n"
     ]
    }
   ],
   "source": [
    "## PATHだけ変える！！\n",
    "## print_sub_st_num(PATH)を呼び出す！\n",
    "PATH = \"./SSEO_003_submit08\"\n",
    "print_sub_st_num(PATH)"
   ]
  },
  {
   "cell_type": "code",
   "execution_count": null,
   "metadata": {},
   "outputs": [],
   "source": []
  }
 ],
 "metadata": {
  "kernelspec": {
   "display_name": "Python 3",
   "language": "python",
   "name": "python3"
  },
  "language_info": {
   "codemirror_mode": {
    "name": "ipython",
    "version": 3
   },
   "file_extension": ".py",
   "mimetype": "text/x-python",
   "name": "python",
   "nbconvert_exporter": "python",
   "pygments_lexer": "ipython3",
   "version": "3.8.5"
  }
 },
 "nbformat": 4,
 "nbformat_minor": 4
}
